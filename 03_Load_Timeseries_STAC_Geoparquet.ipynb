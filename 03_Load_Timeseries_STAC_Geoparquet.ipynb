{
 "cells": [
  {
   "cell_type": "markdown",
   "metadata": {},
   "source": [
    "# Load Timeseries from STAC Geoparquet\n",
    "\n",
    "This notebook follows on from the previous notebooks by demonstrating how to\n",
    "load a data product that has been produced through the use of cloud native\n",
    "methodologies.\n",
    "\n",
    "The full source code used to produce the data used in the below notebook is\n",
    "[available here](https://github.com/auspatious/ldn-land-productivity/).\n",
    "\n",
    "In short, this is an operational implementation of the land productivity metric\n",
    "explored in notebook 2. The output was 720 tiles over 24 years of Landsat\n",
    "data for three case study sites. The notebook below loads data over Belize\n",
    "masks to the land boundary, and calculates land productivitymetrics for the\n",
    "whole country."
   ]
  },
  {
   "cell_type": "code",
   "execution_count": null,
   "metadata": {},
   "outputs": [],
   "source": [
    "import geopandas as gpd\n",
    "import stacrs\n",
    "from dask.distributed import Client\n",
    "from odc.geo import Geometry\n",
    "from odc.geo.xr import mask\n",
    "from odc.stac import load\n",
    "from pystac import Item"
   ]
  },
  {
   "cell_type": "markdown",
   "metadata": {},
   "source": [
    "## Country boundary\n",
    "\n",
    "We first load a geospatial file containing a vector boundary of Belize. This is\n",
    "done in memory, using Geopandas."
   ]
  },
  {
   "cell_type": "code",
   "execution_count": null,
   "metadata": {},
   "outputs": [],
   "source": [
    "url = (\n",
    "    \"https://media.githubusercontent.com/media/wmgeolab/geoBoundaries/\"\n",
    "    \"9469f09592ced973a3448cf66b6100b741b64c0d/releaseData/gbOpen/BLZ/ADM0/geoBoundaries-BLZ-ADM0-all.zip\"\n",
    ")\n",
    "\n",
    "geometry = gpd.read_file(url, layer=\"geoBoundaries-BLZ-ADM0\")\n",
    "geometry.explore()"
   ]
  },
  {
   "cell_type": "markdown",
   "metadata": {},
   "source": [
    "## Access STAC Geoparquet Index to Tiles\n",
    "\n",
    "Next, we use a STAC Geoparquet file as an index to the hundreds of items,\n",
    "thoudands of GeoTIFF files, as a shortcut to load data over our region\n",
    "of interest."
   ]
  },
  {
   "cell_type": "code",
   "execution_count": null,
   "metadata": {},
   "outputs": [],
   "source": [
    "url = \"https://data.ldn.auspatious.com/geo_ls_lp/geo_ls_lp_0_1_0.parquet\"\n",
    "\n",
    "dict_list = await stacrs.search(\n",
    "    url, bbox=list(geometry.geometry.bounds.values.flatten())\n",
    ")\n",
    "\n",
    "items = [Item.from_dict(d) for d in dict_list]\n",
    "\n",
    "data = load(\n",
    "    items,\n",
    "    geopolygon=geometry,\n",
    "    chunks={\"time\": 1, \"longitude\": 3000, \"latitude\": 3000},\n",
    "    crs=\"utm\",\n",
    "    resolution=300\n",
    ")\n",
    "\n",
    "data"
   ]
  },
  {
   "cell_type": "markdown",
   "metadata": {},
   "source": [
    "## Mask data, then do a visual check"
   ]
  },
  {
   "cell_type": "code",
   "execution_count": null,
   "metadata": {},
   "outputs": [],
   "source": [
    "masked = mask(data, Geometry(geometry.to_geo_dict()))"
   ]
  },
  {
   "cell_type": "code",
   "execution_count": null,
   "metadata": {},
   "outputs": [],
   "source": [
    "masked.isel(time=-1).evi2.odc.explore()"
   ]
  },
  {
   "cell_type": "markdown",
   "metadata": {},
   "source": [
    "## Summarise data using Dask\n",
    "\n",
    "This next step is a big job, and uses Dask to run the work in parallel.\n",
    "It will take a while, but have a think about the work it's doing. The result\n",
    "is a single value, the mean of the land prodictivity metric EVI, for each year.\n",
    "\n",
    "So, it's processing a lot of data! With a good internet connection, this should\n",
    "still only take a couple of minutes."
   ]
  },
  {
   "cell_type": "code",
   "execution_count": null,
   "metadata": {},
   "outputs": [],
   "source": [
    "with Client(n_workers=2, threads_per_worker=16) as client:\n",
    "    annual_mean = masked.evi2.mean(dim=[\"x\", \"y\"]).compute()"
   ]
  },
  {
   "cell_type": "markdown",
   "metadata": {},
   "source": [
    "## Visualise results\n",
    "\n",
    "This final cell graphs the results. What can we infer from the graph?"
   ]
  },
  {
   "cell_type": "code",
   "execution_count": null,
   "metadata": {},
   "outputs": [],
   "source": [
    "import matplotlib.pyplot as plt\n",
    "\n",
    "annual_mean.plot(size=3, aspect=2.5)\n",
    "_ = plt.title(\"Annual Mean EVI2\")"
   ]
  }
 ],
 "metadata": {
  "kernelspec": {
   "display_name": "Python 3",
   "language": "python",
   "name": "python3"
  },
  "language_info": {
   "codemirror_mode": {
    "name": "ipython",
    "version": 3
   },
   "file_extension": ".py",
   "mimetype": "text/x-python",
   "name": "python",
   "nbconvert_exporter": "python",
   "pygments_lexer": "ipython3",
   "version": "3.11.10"
  }
 },
 "nbformat": 4,
 "nbformat_minor": 2
}
