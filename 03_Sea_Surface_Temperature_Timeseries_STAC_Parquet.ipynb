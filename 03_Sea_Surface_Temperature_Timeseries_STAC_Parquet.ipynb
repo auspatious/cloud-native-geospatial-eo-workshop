{
 "cells": [
  {
   "cell_type": "markdown",
   "id": "dbb270e8",
   "metadata": {},
   "source": [
    "# Working with Sea Surface Temperature Timeseries from STAC Parquet\n",
    "\n",
    "This notebook follows on from the previous notebooks by demonstrating how to load a data product that has been produced using cloud native methodologies.\n",
    "\n",
    "In the previous two examples, we used STAC APIs to access the data.\n",
    "For smaller datasets, it's possible for a data provider to instead provide a static Parquet file that acts as an index of all the STAC items, allowing for end-users to query the data without the provider needing to maintain a server.\n",
    "\n",
    "In this notebook, we'll access the [Global Foundation Sea Surface Temperature Analysis dataset](https://podaac.jpl.nasa.gov/dataset/MUR-JPL-L4-GLOB-v4.1).\n",
    "The dataset is created and distributed by NASA's Jet Propulsion Laboratory in collaboration with the Group for High Resolution Sea Surface Temperature.\n",
    "The Australian Antarctic Division has [worked to convert the data into Cloud Optimised GeoTIFFs](https://github.com/AustralianAntarcticDivision/ghrsst-cogger/tree/main) and enable access to them through a STAC Parquet file, which is hosted by [Source Cooperative](https://source.coop/repositories/ausantarctic/ghrsst-mur-v2/description).\n"
   ]
  },
  {
   "cell_type": "markdown",
   "id": "ce4bbc6d",
   "metadata": {},
   "source": [
    "## Set up\n",
    "\n",
    "The first step is to set up the required Python libraries.\n",
    "\n",
    "* `stacrs` is used to query the parquet file housing the index of the sea surface temperature data\n",
    "* `pystac` is used to create a list of STAC items\n",
    "* `odc.stac` is used to load the list of items\n",
    "* `odc.geo` allows us to create a bounding box for the STAC query"
   ]
  },
  {
   "cell_type": "code",
   "execution_count": null,
   "id": "ca029a37",
   "metadata": {},
   "outputs": [],
   "source": [
    "import stacrs\n",
    "import pystac\n",
    "from odc.stac import load\n",
    "from odc.geo import BoundingBox"
   ]
  },
  {
   "cell_type": "markdown",
   "id": "f19fb4ab",
   "metadata": {},
   "source": [
    "The second step is to start a Dask client.\n",
    "\n",
    "Dask supports local parallel processing and can help speed up computation times."
   ]
  },
  {
   "cell_type": "code",
   "execution_count": null,
   "id": "4ade63a1",
   "metadata": {},
   "outputs": [],
   "source": [
    "from dask.distributed import Client as DaskClient\n",
    "\n",
    "dask_client = DaskClient(n_workers=2, threads_per_worker=16)\n",
    "dask_client"
   ]
  },
  {
   "cell_type": "markdown",
   "id": "be439e31",
   "metadata": {},
   "source": [
    "## Part 1: Find\n",
    "\n",
    "### 1.1. Setting the source URL for the STAC Parquet file\n",
    "\n",
    "Rather than providing a URL to an API and using `pystac-client` to make a connection, we can specify the URL to the Parquet file that we wish to read from."
   ]
  },
  {
   "cell_type": "code",
   "execution_count": null,
   "id": "431096eb",
   "metadata": {},
   "outputs": [],
   "source": [
    "sst_parquet_url = \"https://data.source.coop/ausantarctic/ghrsst-mur-v2/ghrsst-mur-v2.parquet\""
   ]
  },
  {
   "cell_type": "markdown",
   "id": "dc51494c",
   "metadata": {},
   "source": [
    "### 1.2 Identifying all STAC items from the Parquet file\n",
    "\n",
    "This dataset is relatively small, and all items can be read into a list.\n",
    "This list contains the information that `odc-stac` will use to load data from the Cloud Optimised GeoTIFFs described by the STAC items."
   ]
  },
  {
   "cell_type": "code",
   "execution_count": null,
   "id": "910a8e23",
   "metadata": {},
   "outputs": [],
   "source": [
    "items = await stacrs.read(sst_parquet_url)\n",
    "items = [pystac.Item.from_dict(i) for i in items[\"features\"]]\n",
    "\n",
    "print(f\"Found {len(items)} items\")"
   ]
  },
  {
   "cell_type": "markdown",
   "id": "25c9cd44",
   "metadata": {},
   "source": [
    "### 1.3 Selecting an area to load\n",
    "\n",
    "The sea surface temperature data is available globally.\n",
    "For this notebook, we will look at Prydz Bay in Antarctica, a region that houses many scientific research stations."
   ]
  },
  {
   "cell_type": "code",
   "execution_count": null,
   "id": "e5848994",
   "metadata": {},
   "outputs": [],
   "source": [
    "longitude_center = 75.19\n",
    "longitude_buffer = 5\n",
    "\n",
    "latitude_center = -68.99\n",
    "latitude_buffer = 1.5\n",
    "\n",
    "\n",
    "bbox = BoundingBox(\n",
    "    left=longitude_center-longitude_buffer,\n",
    "    bottom=latitude_center-latitude_buffer,\n",
    "    right=longitude_center+longitude_buffer,\n",
    "    top=latitude_center+latitude_buffer,\n",
    "    crs=\"EPSG:4326\",\n",
    ")\n",
    "\n",
    "bbox.explore()"
   ]
  },
  {
   "cell_type": "markdown",
   "id": "610ba9a6",
   "metadata": {},
   "source": [
    "## Part 2: Load\n",
    "\n",
    "### 2.1 Using odc-stac to load data that intersects with the bounding box"
   ]
  },
  {
   "cell_type": "code",
   "execution_count": null,
   "id": "cd898a18",
   "metadata": {},
   "outputs": [],
   "source": [
    "data = load(\n",
    "    items,\n",
    "    bbox=bbox,\n",
    "    chunks={},\n",
    "    measurements=[\"analysed_sst\"],\n",
    "    fail_on_error=False,\n",
    ")\n",
    "data"
   ]
  },
  {
   "cell_type": "markdown",
   "id": "fcb2ef98",
   "metadata": {},
   "source": [
    "### 2.2 Extract metadata\n",
    "For each STAC item, it's possible to extract additional metadata that's stored in the `raster:bands` extension. \n",
    "The additional metadata are:\n",
    "* the nodata value\n",
    "* the data type\n",
    "* the scale\n",
    "* the offset\n",
    "* the unit"
   ]
  },
  {
   "cell_type": "code",
   "execution_count": null,
   "id": "a173b963",
   "metadata": {},
   "outputs": [],
   "source": [
    "sst_metadata_dict = items[0].assets[\"analysed_sst\"].extra_fields[\"raster:bands\"][0]\n",
    "sst_metadata_dict"
   ]
  },
  {
   "cell_type": "markdown",
   "id": "df8e3ccc",
   "metadata": {},
   "source": [
    "Loading the metadata shows that the original product is provided in Kelvin units, and that it has been stored as an integer using a scale and offset value."
   ]
  },
  {
   "cell_type": "markdown",
   "id": "ac83a05b",
   "metadata": {},
   "source": [
    "## Part 3: Visualise"
   ]
  },
  {
   "cell_type": "markdown",
   "id": "cbb7c696",
   "metadata": {},
   "source": [
    "### 3.1 Prepare data for visualisation\n",
    "\n",
    "There are three important steps we can do to get the data ready for visualisation:\n",
    "* Mask any nodata values\n",
    "* Apply the scale and offset so we're working with float values in Kelvin\n",
    "* Convert the values in Kelvin to values in Celcius"
   ]
  },
  {
   "cell_type": "code",
   "execution_count": null,
   "id": "5a627ddb",
   "metadata": {},
   "outputs": [],
   "source": [
    "# Mask nodata\n",
    "sst = data.analysed_sst.where(data.analysed_sst != sst_metadata_dict[\"nodata\"])"
   ]
  },
  {
   "cell_type": "code",
   "execution_count": null,
   "id": "521c5720",
   "metadata": {},
   "outputs": [],
   "source": [
    "# Extract scale and offset values, then apply\n",
    "sst_scale = sst_metadata_dict[\"scale\"]\n",
    "sst_offset = sst_metadata_dict[\"offset\"]\n",
    "\n",
    "sst_scaled_kelvin = (sst * sst_scale) + sst_offset"
   ]
  },
  {
   "cell_type": "code",
   "execution_count": null,
   "id": "edd4d13c",
   "metadata": {},
   "outputs": [],
   "source": [
    "# Define conversion factor to go from Kelvin to Celcius, then apply\n",
    "k_to_c = -273.15\n",
    "\n",
    "sst_scaled_celcius = sst_scaled_kelvin + k_to_c"
   ]
  },
  {
   "cell_type": "markdown",
   "id": "9b1b75ca",
   "metadata": {},
   "source": [
    "### 3.2 Visualise a single date\n",
    "\n",
    "It's often valuable to review a single image to understand if the masking and scaling has been applied"
   ]
  },
  {
   "cell_type": "code",
   "execution_count": null,
   "id": "72c7949a",
   "metadata": {},
   "outputs": [],
   "source": [
    "sst_scaled_celcius.isel(time=-1).plot.imshow()"
   ]
  },
  {
   "cell_type": "markdown",
   "id": "94efc42a",
   "metadata": {},
   "source": [
    "### 3.3 Calculate and plot the monthly maximum temperature over time\n",
    "\n",
    "For the next visualisations, we'll select a year of data and calculate the monthly maximum for each pixel. \n",
    "This allows us to see monthly patterns, and then further summarise to see an overall maximum over several years."
   ]
  },
  {
   "cell_type": "code",
   "execution_count": null,
   "id": "6317741d",
   "metadata": {},
   "outputs": [],
   "source": [
    "# Select five years of data\n",
    "sst_subset = sst_scaled_celcius.sel(time=slice(\"2020-01-01\", \"2024-12-31\"))\n",
    "\n",
    "# Calculate the max value of each pixel for each month. Apply .compute() to keep in memory for visualisation\n",
    "monthly_max = sst_subset.resample(time=\"1ME\").max().compute()"
   ]
  },
  {
   "cell_type": "markdown",
   "id": "740a8d47",
   "metadata": {},
   "source": [
    "#### 3.3.1 Pixel-level maximum for each month in 2020"
   ]
  },
  {
   "cell_type": "code",
   "execution_count": null,
   "id": "c33714d3",
   "metadata": {},
   "outputs": [],
   "source": [
    "monthly_max.sel(time=slice(\"2020-01-01\", \"2020-12-31\")).plot.imshow(col=\"time\", col_wrap=6)"
   ]
  },
  {
   "cell_type": "markdown",
   "id": "711a05f5",
   "metadata": {},
   "source": [
    "#### 3.3.1 Monthly overall maximum for five years"
   ]
  },
  {
   "cell_type": "code",
   "execution_count": null,
   "id": "2e402997",
   "metadata": {},
   "outputs": [],
   "source": [
    "monthly_max.max(dim=[\"longitude\", \"latitude\"]).plot.line()"
   ]
  },
  {
   "cell_type": "markdown",
   "id": "343fe6fe",
   "metadata": {},
   "source": [
    "## Part 4: Tidy up\n",
    "\n",
    "In this section, we close the Dask client.\n",
    "This prevents multiple clients being instantiated when using different notebooks."
   ]
  },
  {
   "cell_type": "code",
   "execution_count": null,
   "id": "b7dc4847",
   "metadata": {},
   "outputs": [],
   "source": [
    "dask_client.close()"
   ]
  }
 ],
 "metadata": {
  "kernelspec": {
   "display_name": "Python 3",
   "language": "python",
   "name": "python3"
  },
  "language_info": {
   "codemirror_mode": {
    "name": "ipython",
    "version": 3
   },
   "file_extension": ".py",
   "mimetype": "text/x-python",
   "name": "python",
   "nbconvert_exporter": "python",
   "pygments_lexer": "ipython3",
   "version": "3.12.10"
  }
 },
 "nbformat": 4,
 "nbformat_minor": 5
}
